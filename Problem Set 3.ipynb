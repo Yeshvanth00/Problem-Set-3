{
 "cells": [
  {
   "cell_type": "markdown",
   "id": "30492701-9610-4e72-9800-066a85d995ae",
   "metadata": {},
   "source": [
    "BDAT 1004 - Problem Set 3"
   ]
  },
  {
   "cell_type": "markdown",
   "id": "2bb68d14-bca2-4ea4-9b44-eb840312c684",
   "metadata": {},
   "source": [
    "Question 1"
   ]
  },
  {
   "cell_type": "code",
   "execution_count": 3,
   "id": "fa0b7f54-ce5f-4e0b-82a7-a34377937805",
   "metadata": {},
   "outputs": [],
   "source": [
    "import pandas as pd\n",
    "import numpy as np\n"
   ]
  },
  {
   "cell_type": "code",
   "execution_count": 5,
   "id": "6adcc648-6909-4fdf-89b1-3082e81f0789",
   "metadata": {},
   "outputs": [],
   "source": [
    "url = \"https://raw.githubusercontent.com/justmarkham/DAT8/master/data/u.user\"\n",
    "users = pd.read_csv(url, sep='|')\n"
   ]
  },
  {
   "cell_type": "code",
   "execution_count": 7,
   "id": "1967c47b-0f1c-49a8-a89d-33a5e5e140b1",
   "metadata": {},
   "outputs": [
    {
     "name": "stdout",
     "output_type": "stream",
     "text": [
      "occupation\n",
      "administrator    38.746835\n",
      "artist           31.392857\n",
      "doctor           43.571429\n",
      "educator         42.010526\n",
      "engineer         36.388060\n",
      "entertainment    29.222222\n",
      "executive        38.718750\n",
      "healthcare       41.562500\n",
      "homemaker        32.571429\n",
      "lawyer           36.750000\n",
      "librarian        40.000000\n",
      "marketing        37.615385\n",
      "none             26.555556\n",
      "other            34.523810\n",
      "programmer       33.121212\n",
      "retired          63.071429\n",
      "salesman         35.666667\n",
      "scientist        35.548387\n",
      "student          22.081633\n",
      "technician       33.148148\n",
      "writer           36.311111\n",
      "Name: age, dtype: float64\n"
     ]
    }
   ],
   "source": [
    "mean_age_per_occupation = users.groupby('occupation')['age'].mean()\n",
    "print(mean_age_per_occupation)\n"
   ]
  },
  {
   "cell_type": "code",
   "execution_count": 9,
   "id": "1e04d8a3-bbe6-427d-a4b7-7beb9a24bc13",
   "metadata": {},
   "outputs": [
    {
     "name": "stdout",
     "output_type": "stream",
     "text": [
      "occupation\n",
      "doctor           1.000000\n",
      "engineer         0.970149\n",
      "technician       0.962963\n",
      "retired          0.928571\n",
      "programmer       0.909091\n",
      "executive        0.906250\n",
      "scientist        0.903226\n",
      "entertainment    0.888889\n",
      "lawyer           0.833333\n",
      "salesman         0.750000\n",
      "educator         0.726316\n",
      "student          0.693878\n",
      "other            0.657143\n",
      "marketing        0.615385\n",
      "writer           0.577778\n",
      "none             0.555556\n",
      "administrator    0.544304\n",
      "artist           0.535714\n",
      "librarian        0.431373\n",
      "healthcare       0.312500\n",
      "homemaker        0.142857\n",
      "Name: gender, dtype: float64\n"
     ]
    }
   ],
   "source": [
    "male_ratio = users.groupby('occupation')['gender'].apply(lambda x: (x == 'M').mean()).sort_values(ascending=False)\n",
    "print(male_ratio)\n"
   ]
  },
  {
   "cell_type": "code",
   "execution_count": 11,
   "id": "a190d708-dbe2-49fa-baf9-f6bee23d8aa6",
   "metadata": {},
   "outputs": [
    {
     "name": "stdout",
     "output_type": "stream",
     "text": [
      "               min  max\n",
      "occupation             \n",
      "administrator   21   70\n",
      "artist          19   48\n",
      "doctor          28   64\n",
      "educator        23   63\n",
      "engineer        22   70\n",
      "entertainment   15   50\n",
      "executive       22   69\n",
      "healthcare      22   62\n",
      "homemaker       20   50\n",
      "lawyer          21   53\n",
      "librarian       23   69\n",
      "marketing       24   55\n",
      "none            11   55\n",
      "other           13   64\n",
      "programmer      20   63\n",
      "retired         51   73\n",
      "salesman        18   66\n",
      "scientist       23   55\n",
      "student          7   42\n",
      "technician      21   55\n",
      "writer          18   60\n"
     ]
    }
   ],
   "source": [
    "min_max_age = users.groupby('occupation')['age'].agg(['min', 'max'])\n",
    "print(min_max_age)\n"
   ]
  },
  {
   "cell_type": "code",
   "execution_count": 13,
   "id": "b2959a2c-3f81-4a74-8e65-daa495123355",
   "metadata": {},
   "outputs": [
    {
     "name": "stdout",
     "output_type": "stream",
     "text": [
      "occupation     gender\n",
      "administrator  F         40.638889\n",
      "               M         37.162791\n",
      "artist         F         30.307692\n",
      "               M         32.333333\n",
      "doctor         M         43.571429\n",
      "educator       F         39.115385\n",
      "               M         43.101449\n",
      "engineer       F         29.500000\n",
      "               M         36.600000\n",
      "entertainment  F         31.000000\n",
      "               M         29.000000\n",
      "executive      F         44.000000\n",
      "               M         38.172414\n",
      "healthcare     F         39.818182\n",
      "               M         45.400000\n",
      "homemaker      F         34.166667\n",
      "               M         23.000000\n",
      "lawyer         F         39.500000\n",
      "               M         36.200000\n",
      "librarian      F         40.000000\n",
      "               M         40.000000\n",
      "marketing      F         37.200000\n",
      "               M         37.875000\n",
      "none           F         36.500000\n",
      "               M         18.600000\n",
      "other          F         35.472222\n",
      "               M         34.028986\n",
      "programmer     F         32.166667\n",
      "               M         33.216667\n",
      "retired        F         70.000000\n",
      "               M         62.538462\n",
      "salesman       F         27.000000\n",
      "               M         38.555556\n",
      "scientist      F         28.333333\n",
      "               M         36.321429\n",
      "student        F         20.750000\n",
      "               M         22.669118\n",
      "technician     F         38.000000\n",
      "               M         32.961538\n",
      "writer         F         37.631579\n",
      "               M         35.346154\n",
      "Name: age, dtype: float64\n"
     ]
    }
   ],
   "source": [
    "mean_age_gender = users.groupby(['occupation', 'gender'])['age'].mean()\n",
    "print(mean_age_gender)\n"
   ]
  },
  {
   "cell_type": "code",
   "execution_count": 15,
   "id": "abfadd95-a64f-4096-bc95-fd889ff69e71",
   "metadata": {},
   "outputs": [
    {
     "name": "stdout",
     "output_type": "stream",
     "text": [
      "gender             F       M\n",
      "occupation                  \n",
      "administrator  45.57   54.43\n",
      "artist         46.43   53.57\n",
      "doctor          0.00  100.00\n",
      "educator       27.37   72.63\n",
      "engineer        2.99   97.01\n",
      "entertainment  11.11   88.89\n",
      "executive       9.38   90.62\n",
      "healthcare     68.75   31.25\n",
      "homemaker      85.71   14.29\n",
      "lawyer         16.67   83.33\n",
      "librarian      56.86   43.14\n",
      "marketing      38.46   61.54\n",
      "none           44.44   55.56\n",
      "other          34.29   65.71\n",
      "programmer      9.09   90.91\n",
      "retired         7.14   92.86\n",
      "salesman       25.00   75.00\n",
      "scientist       9.68   90.32\n",
      "student        30.61   69.39\n",
      "technician      3.70   96.30\n",
      "writer         42.22   57.78\n"
     ]
    }
   ],
   "source": [
    "gender_percentage = users.groupby(['occupation', 'gender']).size().unstack().fillna(0)\n",
    "gender_percentage = (gender_percentage.div(gender_percentage.sum(axis=1), axis=0) * 100).round(2)\n",
    "print(gender_percentage)\n"
   ]
  },
  {
   "cell_type": "markdown",
   "id": "0738d60e-d088-4db5-8067-5bd0bed108b4",
   "metadata": {},
   "source": [
    "Question 2"
   ]
  },
  {
   "cell_type": "code",
   "execution_count": 18,
   "id": "6a434c5c-76a2-486b-9212-6ac30c5c9d41",
   "metadata": {},
   "outputs": [],
   "source": [
    "import pandas as pd\n"
   ]
  },
  {
   "cell_type": "code",
   "execution_count": 20,
   "id": "0dd8c27d-3ab4-4ca7-9eeb-30c4ef7ade2b",
   "metadata": {},
   "outputs": [],
   "source": [
    "url = \"https://raw.githubusercontent.com/guipsamora/pandas_exercises/master/02_Filtering_%26_Sorting/Euro12/Euro_2012_stats_TEAM.csv\"\n",
    "euro12 = pd.read_csv(url)\n"
   ]
  },
  {
   "cell_type": "code",
   "execution_count": 22,
   "id": "01ab431e-e8c2-4a41-a803-bc428507e039",
   "metadata": {},
   "outputs": [
    {
     "name": "stdout",
     "output_type": "stream",
     "text": [
      "0      4\n",
      "1      4\n",
      "2      4\n",
      "3      5\n",
      "4      3\n",
      "5     10\n",
      "6      5\n",
      "7      6\n",
      "8      2\n",
      "9      2\n",
      "10     6\n",
      "11     1\n",
      "12     5\n",
      "13    12\n",
      "14     5\n",
      "15     2\n",
      "Name: Goals, dtype: int64\n"
     ]
    }
   ],
   "source": [
    "goals = euro12['Goals']\n",
    "print(goals)\n"
   ]
  },
  {
   "cell_type": "code",
   "execution_count": 24,
   "id": "a8dd2b26-601d-4a9a-a55e-b316c2bc668e",
   "metadata": {},
   "outputs": [
    {
     "name": "stdout",
     "output_type": "stream",
     "text": [
      "16\n"
     ]
    }
   ],
   "source": [
    "num_teams = euro12['Team'].nunique()\n",
    "print(num_teams)\n"
   ]
  },
  {
   "cell_type": "code",
   "execution_count": 26,
   "id": "6afe7b76-386a-41db-9180-3b3051b05609",
   "metadata": {},
   "outputs": [
    {
     "name": "stdout",
     "output_type": "stream",
     "text": [
      "35\n"
     ]
    }
   ],
   "source": [
    "num_columns = euro12.shape[1]\n",
    "print(num_columns)\n"
   ]
  },
  {
   "cell_type": "code",
   "execution_count": 28,
   "id": "9ce8f8ac-e8bb-4d26-822d-3720dad25640",
   "metadata": {},
   "outputs": [
    {
     "name": "stdout",
     "output_type": "stream",
     "text": [
      "                   Team  Yellow Cards  Red Cards\n",
      "0               Croatia             9          0\n",
      "1        Czech Republic             7          0\n",
      "2               Denmark             4          0\n",
      "3               England             5          0\n",
      "4                France             6          0\n",
      "5               Germany             4          0\n",
      "6                Greece             9          1\n",
      "7                 Italy            16          0\n",
      "8           Netherlands             5          0\n",
      "9                Poland             7          1\n",
      "10             Portugal            12          0\n",
      "11  Republic of Ireland             6          1\n",
      "12               Russia             6          0\n",
      "13                Spain            11          0\n",
      "14               Sweden             7          0\n",
      "15              Ukraine             5          0\n"
     ]
    }
   ],
   "source": [
    "discipline = euro12[['Team', 'Yellow Cards', 'Red Cards']]\n",
    "print(discipline)\n"
   ]
  },
  {
   "cell_type": "code",
   "execution_count": 30,
   "id": "e89b2289-b261-4874-9947-15b08b19e129",
   "metadata": {},
   "outputs": [
    {
     "name": "stdout",
     "output_type": "stream",
     "text": [
      "                   Team  Yellow Cards  Red Cards\n",
      "6                Greece             9          1\n",
      "9                Poland             7          1\n",
      "11  Republic of Ireland             6          1\n",
      "7                 Italy            16          0\n",
      "10             Portugal            12          0\n",
      "13                Spain            11          0\n",
      "0               Croatia             9          0\n",
      "1        Czech Republic             7          0\n",
      "14               Sweden             7          0\n",
      "4                France             6          0\n",
      "12               Russia             6          0\n",
      "3               England             5          0\n",
      "8           Netherlands             5          0\n",
      "15              Ukraine             5          0\n",
      "2               Denmark             4          0\n",
      "5               Germany             4          0\n"
     ]
    }
   ],
   "source": [
    "sorted_teams = discipline.sort_values(by=['Red Cards', 'Yellow Cards'], ascending=[False, False])\n",
    "print(sorted_teams)\n"
   ]
  },
  {
   "cell_type": "code",
   "execution_count": 32,
   "id": "5ad83822-e07e-4e73-8d7d-6bb2f8251102",
   "metadata": {},
   "outputs": [
    {
     "name": "stdout",
     "output_type": "stream",
     "text": [
      "7.4375\n"
     ]
    }
   ],
   "source": [
    "mean_yellow_cards = euro12['Yellow Cards'].mean()\n",
    "print(mean_yellow_cards)\n"
   ]
  },
  {
   "cell_type": "code",
   "execution_count": 34,
   "id": "13e8270a-e15a-4de3-b455-1affa7c75173",
   "metadata": {},
   "outputs": [
    {
     "name": "stdout",
     "output_type": "stream",
     "text": [
      "       Team  Goals  Shots on target  Shots off target Shooting Accuracy  \\\n",
      "5   Germany     10               32                32             47.8%   \n",
      "13    Spain     12               42                33             55.9%   \n",
      "\n",
      "   % Goals-to-shots  Total shots (inc. Blocked)  Hit Woodwork  Penalty goals  \\\n",
      "5             15.6%                          80             2              1   \n",
      "13            16.0%                         100             0              1   \n",
      "\n",
      "    Penalties not scored  ...  Saves made  Saves-to-shots ratio  Fouls Won  \\\n",
      "5                      0  ...          10                 62.6%         63   \n",
      "13                     0  ...          15                 93.8%        102   \n",
      "\n",
      "   Fouls Conceded  Offsides  Yellow Cards  Red Cards  Subs on  Subs off  \\\n",
      "5              49        12             4          0       15        15   \n",
      "13             83        19            11          0       17        17   \n",
      "\n",
      "    Players Used  \n",
      "5             17  \n",
      "13            18  \n",
      "\n",
      "[2 rows x 35 columns]\n"
     ]
    }
   ],
   "source": [
    "high_scoring_teams = euro12[euro12['Goals'] > 6]\n",
    "print(high_scoring_teams)\n"
   ]
  },
  {
   "cell_type": "code",
   "execution_count": 36,
   "id": "5e453a70-c050-4447-aac9-b348a5fb48ec",
   "metadata": {},
   "outputs": [
    {
     "name": "stdout",
     "output_type": "stream",
     "text": [
      "      Team  Goals  Shots on target  Shots off target Shooting Accuracy  \\\n",
      "5  Germany     10               32                32             47.8%   \n",
      "6   Greece      5                8                18             30.7%   \n",
      "\n",
      "  % Goals-to-shots  Total shots (inc. Blocked)  Hit Woodwork  Penalty goals  \\\n",
      "5            15.6%                          80             2              1   \n",
      "6            19.2%                          32             1              1   \n",
      "\n",
      "   Penalties not scored  ...  Saves made  Saves-to-shots ratio  Fouls Won  \\\n",
      "5                     0  ...          10                 62.6%         63   \n",
      "6                     1  ...          13                 65.1%         67   \n",
      "\n",
      "  Fouls Conceded  Offsides  Yellow Cards  Red Cards  Subs on  Subs off  \\\n",
      "5             49        12             4          0       15        15   \n",
      "6             48        12             9          1       12        12   \n",
      "\n",
      "   Players Used  \n",
      "5            17  \n",
      "6            20  \n",
      "\n",
      "[2 rows x 35 columns]\n"
     ]
    }
   ],
   "source": [
    "teams_with_g = euro12[euro12['Team'].str.startswith('G')]\n",
    "print(teams_with_g)\n"
   ]
  },
  {
   "cell_type": "code",
   "execution_count": 38,
   "id": "8af983e7-c633-4ab1-a512-ca8bb293c164",
   "metadata": {},
   "outputs": [
    {
     "name": "stdout",
     "output_type": "stream",
     "text": [
      "                   Team  Goals  Shots on target  Shots off target  \\\n",
      "0               Croatia      4               13                12   \n",
      "1        Czech Republic      4               13                18   \n",
      "2               Denmark      4               10                10   \n",
      "3               England      5               11                18   \n",
      "4                France      3               22                24   \n",
      "5               Germany     10               32                32   \n",
      "6                Greece      5                8                18   \n",
      "7                 Italy      6               34                45   \n",
      "8           Netherlands      2               12                36   \n",
      "9                Poland      2               15                23   \n",
      "10             Portugal      6               22                42   \n",
      "11  Republic of Ireland      1                7                12   \n",
      "12               Russia      5                9                31   \n",
      "13                Spain     12               42                33   \n",
      "14               Sweden      5               17                19   \n",
      "15              Ukraine      2                7                26   \n",
      "\n",
      "   Shooting Accuracy % Goals-to-shots  Total shots (inc. Blocked)  \n",
      "0              51.9%            16.0%                          32  \n",
      "1              41.9%            12.9%                          39  \n",
      "2              50.0%            20.0%                          27  \n",
      "3              50.0%            17.2%                          40  \n",
      "4              37.9%             6.5%                          65  \n",
      "5              47.8%            15.6%                          80  \n",
      "6              30.7%            19.2%                          32  \n",
      "7              43.0%             7.5%                         110  \n",
      "8              25.0%             4.1%                          60  \n",
      "9              39.4%             5.2%                          48  \n",
      "10             34.3%             9.3%                          82  \n",
      "11             36.8%             5.2%                          28  \n",
      "12             22.5%            12.5%                          59  \n",
      "13             55.9%            16.0%                         100  \n",
      "14             47.2%            13.8%                          39  \n",
      "15             21.2%             6.0%                          38  \n"
     ]
    }
   ],
   "source": [
    "first_7_columns = euro12.iloc[:, :7]\n",
    "print(first_7_columns)\n"
   ]
  },
  {
   "cell_type": "code",
   "execution_count": 40,
   "id": "3bd3edc8-f85b-4789-b629-d7deca445290",
   "metadata": {},
   "outputs": [
    {
     "name": "stdout",
     "output_type": "stream",
     "text": [
      "                   Team  Goals  Shots on target  Shots off target  \\\n",
      "0               Croatia      4               13                12   \n",
      "1        Czech Republic      4               13                18   \n",
      "2               Denmark      4               10                10   \n",
      "3               England      5               11                18   \n",
      "4                France      3               22                24   \n",
      "5               Germany     10               32                32   \n",
      "6                Greece      5                8                18   \n",
      "7                 Italy      6               34                45   \n",
      "8           Netherlands      2               12                36   \n",
      "9                Poland      2               15                23   \n",
      "10             Portugal      6               22                42   \n",
      "11  Republic of Ireland      1                7                12   \n",
      "12               Russia      5                9                31   \n",
      "13                Spain     12               42                33   \n",
      "14               Sweden      5               17                19   \n",
      "15              Ukraine      2                7                26   \n",
      "\n",
      "   Shooting Accuracy % Goals-to-shots  Total shots (inc. Blocked)  \\\n",
      "0              51.9%            16.0%                          32   \n",
      "1              41.9%            12.9%                          39   \n",
      "2              50.0%            20.0%                          27   \n",
      "3              50.0%            17.2%                          40   \n",
      "4              37.9%             6.5%                          65   \n",
      "5              47.8%            15.6%                          80   \n",
      "6              30.7%            19.2%                          32   \n",
      "7              43.0%             7.5%                         110   \n",
      "8              25.0%             4.1%                          60   \n",
      "9              39.4%             5.2%                          48   \n",
      "10             34.3%             9.3%                          82   \n",
      "11             36.8%             5.2%                          28   \n",
      "12             22.5%            12.5%                          59   \n",
      "13             55.9%            16.0%                         100   \n",
      "14             47.2%            13.8%                          39   \n",
      "15             21.2%             6.0%                          38   \n",
      "\n",
      "    Hit Woodwork  Penalty goals  Penalties not scored  ...  Clean Sheets  \\\n",
      "0              0              0                     0  ...             0   \n",
      "1              0              0                     0  ...             1   \n",
      "2              1              0                     0  ...             1   \n",
      "3              0              0                     0  ...             2   \n",
      "4              1              0                     0  ...             1   \n",
      "5              2              1                     0  ...             1   \n",
      "6              1              1                     1  ...             1   \n",
      "7              2              0                     0  ...             2   \n",
      "8              2              0                     0  ...             0   \n",
      "9              0              0                     0  ...             0   \n",
      "10             6              0                     0  ...             2   \n",
      "11             0              0                     0  ...             0   \n",
      "12             2              0                     0  ...             0   \n",
      "13             0              1                     0  ...             5   \n",
      "14             3              0                     0  ...             1   \n",
      "15             0              0                     0  ...             0   \n",
      "\n",
      "    Blocks  Goals conceded Saves made  Saves-to-shots ratio  Fouls Won  \\\n",
      "0       10               3         13                 81.3%         41   \n",
      "1       10               6          9                 60.1%         53   \n",
      "2       10               5         10                 66.7%         25   \n",
      "3       29               3         22                 88.1%         43   \n",
      "4        7               5          6                 54.6%         36   \n",
      "5       11               6         10                 62.6%         63   \n",
      "6       23               7         13                 65.1%         67   \n",
      "7       18               7         20                 74.1%        101   \n",
      "8        9               5         12                 70.6%         35   \n",
      "9        8               3          6                 66.7%         48   \n",
      "10      11               4         10                 71.5%         73   \n",
      "11      23               9         17                 65.4%         43   \n",
      "12       8               3         10                 77.0%         34   \n",
      "13       8               1         15                 93.8%        102   \n",
      "14      12               5          8                 61.6%         35   \n",
      "15       4               4         13                 76.5%         48   \n",
      "\n",
      "    Fouls Conceded  Offsides  Yellow Cards  Red Cards  \n",
      "0               62         2             9          0  \n",
      "1               73         8             7          0  \n",
      "2               38         8             4          0  \n",
      "3               45         6             5          0  \n",
      "4               51         5             6          0  \n",
      "5               49        12             4          0  \n",
      "6               48        12             9          1  \n",
      "7               89        16            16          0  \n",
      "8               30         3             5          0  \n",
      "9               56         3             7          1  \n",
      "10              90        10            12          0  \n",
      "11              51        11             6          1  \n",
      "12              43         4             6          0  \n",
      "13              83        19            11          0  \n",
      "14              51         7             7          0  \n",
      "15              31         4             5          0  \n",
      "\n",
      "[16 rows x 32 columns]\n"
     ]
    }
   ],
   "source": [
    "all_except_last_3 = euro12.iloc[:, :-3]\n",
    "print(all_except_last_3)\n"
   ]
  },
  {
   "cell_type": "code",
   "execution_count": 42,
   "id": "1dbdf3ce-6dad-4941-b978-4772ec9f4dcd",
   "metadata": {},
   "outputs": [
    {
     "name": "stdout",
     "output_type": "stream",
     "text": [
      "       Team Shooting Accuracy\n",
      "3   England             50.0%\n",
      "7     Italy             43.0%\n",
      "12   Russia             22.5%\n"
     ]
    }
   ],
   "source": [
    "shooting_accuracy = euro12[euro12['Team'].isin(['England', 'Italy', 'Russia'])][['Team', 'Shooting Accuracy']]\n",
    "print(shooting_accuracy)\n"
   ]
  },
  {
   "cell_type": "markdown",
   "id": "29822bbd-ccfa-4a03-85b4-1f816f6cd624",
   "metadata": {},
   "source": [
    "Question 3"
   ]
  },
  {
   "cell_type": "code",
   "execution_count": 45,
   "id": "3719c8b6-20a6-45c6-af6a-20b5059dfbe1",
   "metadata": {},
   "outputs": [],
   "source": [
    "import pandas as pd\n",
    "import numpy as np\n"
   ]
  },
  {
   "cell_type": "code",
   "execution_count": 47,
   "id": "a0895ccb-84a0-4517-ae15-1d097a5f5924",
   "metadata": {},
   "outputs": [],
   "source": [
    "series1 = pd.Series(np.random.randint(1, 5, size=100))\n",
    "series2 = pd.Series(np.random.randint(1, 4, size=100))\n",
    "series3 = pd.Series(np.random.randint(10000, 30001, size=100))\n"
   ]
  },
  {
   "cell_type": "code",
   "execution_count": 49,
   "id": "a8774986-4a69-4e86-b02e-97ac4de7463f",
   "metadata": {},
   "outputs": [
    {
     "name": "stdout",
     "output_type": "stream",
     "text": [
      "   bedrs  bathrs  price_sqr_meter\n",
      "0      1       3            20864\n",
      "1      2       1            11126\n",
      "2      2       2            11323\n",
      "3      4       1            10505\n",
      "4      4       1            21667\n"
     ]
    }
   ],
   "source": [
    "housing_df = pd.DataFrame({'bedrs': series1, 'bathrs': series2, 'price_sqr_meter': series3})\n",
    "print(housing_df.head())\n"
   ]
  },
  {
   "cell_type": "code",
   "execution_count": 51,
   "id": "ea906d1e-abf6-4761-a9c3-edb514362e89",
   "metadata": {},
   "outputs": [
    {
     "name": "stdout",
     "output_type": "stream",
     "text": [
      "     bigcolumn\n",
      "0            1\n",
      "1            2\n",
      "2            2\n",
      "3            4\n",
      "4            4\n",
      "..         ...\n",
      "295      19074\n",
      "296      25038\n",
      "297      16281\n",
      "298      15710\n",
      "299      23586\n",
      "\n",
      "[300 rows x 1 columns]\n"
     ]
    }
   ],
   "source": [
    "bigcolumn = pd.concat([series1, series2, series3], axis=0).reset_index(drop=True)\n",
    "bigcolumn_df = pd.DataFrame(bigcolumn, columns=['bigcolumn'])\n",
    "print(bigcolumn_df)\n"
   ]
  },
  {
   "cell_type": "code",
   "execution_count": 53,
   "id": "0a3de59c-c1e9-4289-9589-cc144bb5f660",
   "metadata": {},
   "outputs": [
    {
     "name": "stdout",
     "output_type": "stream",
     "text": [
      "299\n"
     ]
    }
   ],
   "source": [
    "print(bigcolumn_df.index.max())\n"
   ]
  },
  {
   "cell_type": "code",
   "execution_count": 55,
   "id": "db3921c3-fc06-4403-81a5-d02248665a2a",
   "metadata": {},
   "outputs": [
    {
     "name": "stdout",
     "output_type": "stream",
     "text": [
      "     bigcolumn\n",
      "295      19074\n",
      "296      25038\n",
      "297      16281\n",
      "298      15710\n",
      "299      23586\n"
     ]
    }
   ],
   "source": [
    "bigcolumn_df = bigcolumn_df.reindex(range(300))\n",
    "print(bigcolumn_df.tail())\n"
   ]
  },
  {
   "cell_type": "markdown",
   "id": "152652bc-c95d-4836-a4be-a33768e793c3",
   "metadata": {},
   "source": [
    "Question 5"
   ]
  },
  {
   "cell_type": "code",
   "execution_count": 67,
   "id": "52e09481-fd5f-48ff-9ae8-888224c41bc6",
   "metadata": {},
   "outputs": [],
   "source": [
    "import pandas as pd\n"
   ]
  },
  {
   "cell_type": "code",
   "execution_count": 69,
   "id": "a02f71ef-0b20-4677-8e0f-a64723e22c63",
   "metadata": {},
   "outputs": [],
   "source": [
    "url = \"https://raw.githubusercontent.com/justmarkham/DAT8/master/data/chipotle.tsv\"\n",
    "chipo = pd.read_csv(url, sep='\\t')\n"
   ]
  },
  {
   "cell_type": "code",
   "execution_count": 71,
   "id": "52fcfb74-823a-4f02-80a7-8deaed0691b7",
   "metadata": {},
   "outputs": [
    {
     "name": "stdout",
     "output_type": "stream",
     "text": [
      "   order_id  quantity                              item_name  \\\n",
      "0         1         1           Chips and Fresh Tomato Salsa   \n",
      "1         1         1                                   Izze   \n",
      "2         1         1                       Nantucket Nectar   \n",
      "3         1         1  Chips and Tomatillo-Green Chili Salsa   \n",
      "4         2         2                           Chicken Bowl   \n",
      "5         3         1                           Chicken Bowl   \n",
      "6         3         1                          Side of Chips   \n",
      "7         4         1                          Steak Burrito   \n",
      "8         4         1                       Steak Soft Tacos   \n",
      "9         5         1                          Steak Burrito   \n",
      "\n",
      "                                  choice_description item_price  \n",
      "0                                                NaN     $2.39   \n",
      "1                                       [Clementine]     $3.39   \n",
      "2                                            [Apple]     $3.39   \n",
      "3                                                NaN     $2.39   \n",
      "4  [Tomatillo-Red Chili Salsa (Hot), [Black Beans...    $16.98   \n",
      "5  [Fresh Tomato Salsa (Mild), [Rice, Cheese, Sou...    $10.98   \n",
      "6                                                NaN     $1.69   \n",
      "7  [Tomatillo Red Chili Salsa, [Fajita Vegetables...    $11.75   \n",
      "8  [Tomatillo Green Chili Salsa, [Pinto Beans, Ch...     $9.25   \n",
      "9  [Fresh Tomato Salsa, [Rice, Black Beans, Pinto...     $9.25   \n"
     ]
    }
   ],
   "source": [
    "print(chipo.head(10))\n"
   ]
  },
  {
   "cell_type": "code",
   "execution_count": 73,
   "id": "2e9e71af-5d19-45ee-b8b0-a63276753dff",
   "metadata": {},
   "outputs": [
    {
     "name": "stdout",
     "output_type": "stream",
     "text": [
      "4622\n"
     ]
    }
   ],
   "source": [
    "num_observations = chipo.shape[0]\n",
    "print(num_observations)\n"
   ]
  },
  {
   "cell_type": "code",
   "execution_count": 75,
   "id": "580faad8-3667-4c56-bc62-8337033f8f40",
   "metadata": {},
   "outputs": [
    {
     "name": "stdout",
     "output_type": "stream",
     "text": [
      "5\n"
     ]
    }
   ],
   "source": [
    "num_columns = chipo.shape[1]\n",
    "print(num_columns)\n"
   ]
  },
  {
   "cell_type": "code",
   "execution_count": 77,
   "id": "4a261378-5740-4ca4-9e95-ae9d0b06d693",
   "metadata": {},
   "outputs": [
    {
     "name": "stdout",
     "output_type": "stream",
     "text": [
      "Index(['order_id', 'quantity', 'item_name', 'choice_description',\n",
      "       'item_price'],\n",
      "      dtype='object')\n"
     ]
    }
   ],
   "source": [
    "print(chipo.columns)\n"
   ]
  },
  {
   "cell_type": "code",
   "execution_count": 79,
   "id": "d3b5e999-a56e-4b79-a50c-6af3863b94b9",
   "metadata": {},
   "outputs": [
    {
     "name": "stdout",
     "output_type": "stream",
     "text": [
      "RangeIndex(start=0, stop=4622, step=1)\n"
     ]
    }
   ],
   "source": [
    "print(chipo.index)\n"
   ]
  },
  {
   "cell_type": "code",
   "execution_count": 81,
   "id": "0173da3c-e4d3-45d1-b170-e9d1cde0c58b",
   "metadata": {},
   "outputs": [
    {
     "name": "stdout",
     "output_type": "stream",
     "text": [
      "Chicken Bowl\n"
     ]
    }
   ],
   "source": [
    "most_ordered_item = chipo.groupby('item_name')['quantity'].sum().idxmax()\n",
    "print(most_ordered_item)\n"
   ]
  },
  {
   "cell_type": "code",
   "execution_count": 83,
   "id": "0fddeb0d-9e62-4fc1-86a7-4729aa03c6e8",
   "metadata": {},
   "outputs": [
    {
     "name": "stdout",
     "output_type": "stream",
     "text": [
      "761\n"
     ]
    }
   ],
   "source": [
    "most_ordered_quantity = chipo.groupby('item_name')['quantity'].sum().max()\n",
    "print(most_ordered_quantity)\n"
   ]
  },
  {
   "cell_type": "code",
   "execution_count": 85,
   "id": "a9170acc-0c47-4a63-8fc5-7e150d545edd",
   "metadata": {},
   "outputs": [
    {
     "name": "stdout",
     "output_type": "stream",
     "text": [
      "[Diet Coke]\n"
     ]
    }
   ],
   "source": [
    "most_ordered_choice = chipo['choice_description'].value_counts().idxmax()\n",
    "print(most_ordered_choice)\n"
   ]
  },
  {
   "cell_type": "code",
   "execution_count": 87,
   "id": "299d0af7-4ba7-43e6-9f4e-474525a4e901",
   "metadata": {},
   "outputs": [
    {
     "name": "stdout",
     "output_type": "stream",
     "text": [
      "4972\n"
     ]
    }
   ],
   "source": [
    "total_items = chipo['quantity'].sum()\n",
    "print(total_items)\n"
   ]
  },
  {
   "cell_type": "code",
   "execution_count": 89,
   "id": "5cbb0d24-8d64-4499-8968-c82a68791665",
   "metadata": {},
   "outputs": [],
   "source": [
    "chipo['item_price'] = chipo['item_price'].str.replace('$', '').astype(float)\n"
   ]
  },
  {
   "cell_type": "code",
   "execution_count": 91,
   "id": "41d9c3b9-9eef-4984-84ff-588d2be408ae",
   "metadata": {},
   "outputs": [
    {
     "name": "stdout",
     "output_type": "stream",
     "text": [
      "float64\n"
     ]
    }
   ],
   "source": [
    "print(chipo['item_price'].dtype)\n"
   ]
  },
  {
   "cell_type": "code",
   "execution_count": 93,
   "id": "ff5ec21e-cbde-4538-a340-03d26c01e609",
   "metadata": {},
   "outputs": [
    {
     "name": "stdout",
     "output_type": "stream",
     "text": [
      "39237.02\n"
     ]
    }
   ],
   "source": [
    "revenue = (chipo['item_price'] * chipo['quantity']).sum()\n",
    "print(revenue)\n"
   ]
  },
  {
   "cell_type": "code",
   "execution_count": 95,
   "id": "1e0fc0f2-088f-4d36-a1fe-e69915be1489",
   "metadata": {},
   "outputs": [
    {
     "name": "stdout",
     "output_type": "stream",
     "text": [
      "1834\n"
     ]
    }
   ],
   "source": [
    "num_orders = chipo['order_id'].nunique()\n",
    "print(num_orders)\n"
   ]
  },
  {
   "cell_type": "code",
   "execution_count": 97,
   "id": "ae477302-46df-4bd1-850a-c28f943c2abd",
   "metadata": {},
   "outputs": [
    {
     "name": "stdout",
     "output_type": "stream",
     "text": [
      "21.39423118865867\n"
     ]
    }
   ],
   "source": [
    "avg_revenue_per_order = revenue / num_orders\n",
    "print(avg_revenue_per_order)\n"
   ]
  },
  {
   "cell_type": "code",
   "execution_count": 99,
   "id": "65d66571-94d4-4760-84cb-c36659357c8b",
   "metadata": {},
   "outputs": [
    {
     "name": "stdout",
     "output_type": "stream",
     "text": [
      "50\n"
     ]
    }
   ],
   "source": [
    "num_items_sold = chipo['item_name'].nunique()\n",
    "print(num_items_sold)\n"
   ]
  },
  {
   "cell_type": "markdown",
   "id": "f050d4cc-4046-48bd-9ecf-e128283cd40f",
   "metadata": {},
   "source": [
    "Question 6"
   ]
  },
  {
   "cell_type": "code",
   "execution_count": 102,
   "id": "a8028c56-4c02-4eaf-b7bf-a202022f8397",
   "metadata": {},
   "outputs": [
    {
     "name": "stderr",
     "output_type": "stream",
     "text": [
      "Matplotlib is building the font cache; this may take a moment.\n"
     ]
    }
   ],
   "source": [
    "import pandas as pd\n",
    "import matplotlib.pyplot as plt\n"
   ]
  },
  {
   "cell_type": "code",
   "execution_count": 104,
   "id": "518c8298-2f67-4bcb-9897-d3cadb63d367",
   "metadata": {},
   "outputs": [],
   "source": [
    "data = {\n",
    "    'Year': [1867, 1900, 1950, 2000, 2014],\n",
    "    'Marriages_per_Capita': [9.8, 8.7, 10.6, 8.2, 6.9],\n",
    "    'Divorces_per_Capita': [0.3, 0.5, 2.2, 4.1, 3.6]\n",
    "}\n",
    "df = pd.DataFrame(data)\n"
   ]
  },
  {
   "cell_type": "code",
   "execution_count": 106,
   "id": "0b867359-96a8-4947-8b42-89ab61524aa4",
   "metadata": {},
   "outputs": [
    {
     "data": {
      "image/png": "[encoded data removed]",
      "text/plain": [
       "<Figure size 1000x600 with 1 Axes>"
      ]
     },
     "metadata": {},
     "output_type": "display_data"
    }
   ],
   "source": [
    "plt.figure(figsize=(10, 6))\n",
    "plt.plot(df['Year'], df['Marriages_per_Capita'], label='Marriages per Capita', marker='o')\n",
    "plt.plot(df['Year'], df['Divorces_per_Capita'], label='Divorces per Capita', marker='o')\n",
    "plt.title('U.S. Marriages and Divorces per Capita (1867–2014)')\n",
    "plt.xlabel('Year')\n",
    "plt.ylabel('Rate per Capita')\n",
    "plt.legend()\n",
    "plt.grid(True)\n",
    "plt.show()\n"
   ]
  },
  {
   "cell_type": "markdown",
   "id": "f7d0d561-446e-4816-a4ac-63364481c5d8",
   "metadata": {},
   "source": [
    "Question 7"
   ]
  },
  {
   "cell_type": "code",
   "execution_count": 109,
   "id": "8e6a0780-fd7c-4cf3-8791-5973b1f2690f",
   "metadata": {},
   "outputs": [],
   "source": [
    "data = {\n",
    "    'Year': [1900, 1950, 2000],\n",
    "    'Marriages_per_Capita': [8.7, 10.6, 8.2],\n",
    "    'Divorces_per_Capita': [0.5, 2.2, 4.1]\n",
    "}\n",
    "df = pd.DataFrame(data)\n"
   ]
  },
  {
   "cell_type": "code",
   "execution_count": 111,
   "id": "21a09ec2-8ade-4fcb-85bd-784306ddeff6",
   "metadata": {},
   "outputs": [
    {
     "data": {
      "image/png": "[encoded data removed]",
      "text/plain": [
       "<Figure size 1000x600 with 1 Axes>"
      ]
     },
     "metadata": {},
     "output_type": "display_data"
    }
   ],
   "source": [
    "x = range(len(df['Year']))\n",
    "plt.figure(figsize=(10, 6))\n",
    "plt.bar(x, df['Marriages_per_Capita'], width=0.4, label='Marriages per Capita', align='center')\n",
    "plt.bar([p + 0.4 for p in x], df['Divorces_per_Capita'], width=0.4, label='Divorces per Capita', align='center')\n",
    "plt.xticks([p + 0.2 for p in x], df['Year'])\n",
    "plt.title('Comparison of Marriages and Divorces per Capita (1900, 1950, 2000)')\n",
    "plt.xlabel('Year')\n",
    "plt.ylabel('Rate per Capita')\n",
    "plt.legend()\n",
    "plt.grid(True)\n",
    "plt.show()\n"
   ]
  },
  {
   "cell_type": "markdown",
   "id": "a345105b-5ced-4d77-a982-342ca00672be",
   "metadata": {},
   "source": [
    "Question 8"
   ]
  },
  {
   "cell_type": "code",
   "execution_count": 114,
   "id": "84260eea-c978-43d5-b9fb-50a3c334f2af",
   "metadata": {},
   "outputs": [],
   "source": [
    "data = {\n",
    "    'Actor': ['Actor A', 'Actor B', 'Actor C', 'Actor D', 'Actor E'],\n",
    "    'Kill_Count': [150, 120, 100, 80, 60]\n",
    "}\n",
    "df = pd.DataFrame(data)\n"
   ]
  },
  {
   "cell_type": "code",
   "execution_count": 116,
   "id": "0934b6bf-937f-4a93-ae0e-487cd7e6a41b",
   "metadata": {},
   "outputs": [
    {
     "data": {
      "image/png": "[encoded data removed]",
      "text/plain": [
       "<Figure size 1000x600 with 1 Axes>"
      ]
     },
     "metadata": {},
     "output_type": "display_data"
    }
   ],
   "source": [
    "plt.figure(figsize=(10, 6))\n",
    "plt.barh(df['Actor'], df['Kill_Count'], color='skyblue')\n",
    "plt.title('Deadliest Actors in Hollywood')\n",
    "plt.xlabel('Kill Count')\n",
    "plt.ylabel('Actor')\n",
    "for index, value in enumerate(df['Kill_Count']):\n",
    "    plt.text(value, index, str(value))\n",
    "plt.show()\n"
   ]
  },
  {
   "cell_type": "markdown",
   "id": "b149352b-3026-499a-aeae-a4ae35932056",
   "metadata": {},
   "source": [
    "Question 9"
   ]
  },
  {
   "cell_type": "code",
   "execution_count": 119,
   "id": "c4127e94-35b4-4053-adbd-c9206156bd9c",
   "metadata": {},
   "outputs": [],
   "source": [
    "data = {\n",
    "    'Category': ['Assassinated', 'Natural Causes', 'Other'],\n",
    "    'Count': [43, 25, 15]\n",
    "}\n",
    "df = pd.DataFrame(data)\n"
   ]
  },
  {
   "cell_type": "code",
   "execution_count": 121,
   "id": "7a51de64-6d54-4306-8639-5b9337df36d5",
   "metadata": {},
   "outputs": [
    {
     "data": {
      "image/png": "[encoded data removed]",
      "text/plain": [
       "<Figure size 800x800 with 1 Axes>"
      ]
     },
     "metadata": {},
     "output_type": "display_data"
    }
   ],
   "source": [
    "plt.figure(figsize=(8, 8))\n",
    "plt.pie(df['Count'], labels=df['Category'], autopct='%1.1f%%', startangle=90)\n",
    "plt.title('Fraction of Roman Emperors Assassinated')\n",
    "plt.axis('equal')  # Ensures the pie chart is a circle\n",
    "plt.show()\n"
   ]
  },
  {
   "cell_type": "markdown",
   "id": "5d7551c2-9f84-4da3-9988-a9a0e3fbab89",
   "metadata": {},
   "source": [
    "Question 10"
   ]
  },
  {
   "cell_type": "code",
   "execution_count": 124,
   "id": "4cca688e-3f64-43e1-8ca7-0ea7a5c6e7c9",
   "metadata": {},
   "outputs": [],
   "source": [
    "data = {\n",
    "    'Year': [2000, 2001, 2002, 2003, 2004, 2005, 2006, 2007, 2008, 2009],\n",
    "    'Arcade_Revenue': [3.5, 3.7, 4.0, 4.1, 4.3, 4.5, 4.7, 4.9, 5.0, 5.2],\n",
    "    'CS_PhDs': [1000, 1100, 1150, 1200, 1300, 1350, 1400, 1450, 1500, 1550]\n",
    "}\n",
    "df = pd.DataFrame(data)\n"
   ]
  },
  {
   "cell_type": "code",
   "execution_count": 126,
   "id": "e3d9ae23-8457-40f1-b091-9a3e4b01a0b8",
   "metadata": {},
   "outputs": [
    {
     "data": {
      "image/png": "[encoded data removed]",
      "text/plain": [
       "<Figure size 1000x600 with 2 Axes>"
      ]
     },
     "metadata": {},
     "output_type": "display_data"
    }
   ],
   "source": [
    "plt.figure(figsize=(10, 6))\n",
    "scatter = plt.scatter(df['Arcade_Revenue'], df['CS_PhDs'], c=df['Year'], cmap='viridis', s=100)\n",
    "plt.title('Arcade Revenue vs. CS PhDs Awarded (2000–2009)')\n",
    "plt.xlabel('Arcade Revenue (in billions)')\n",
    "plt.ylabel('CS PhDs Awarded')\n",
    "plt.colorbar(scatter, label='Year')\n",
    "plt.grid(True)\n",
    "plt.show()\n"
   ]
  },
  {
   "cell_type": "code",
   "execution_count": null,
   "id": "8f5c86b3-48a3-4624-9bc2-c46f07f5c9ba",
   "metadata": {},
   "outputs": [],
   "source": []
  }
 ],
 "metadata": {
  "kernelspec": {
   "display_name": "Python 3 (ipykernel)",
   "language": "python",
   "name": "python3"
  },
  "language_info": {
   "codemirror_mode": {
    "name": "ipython",
    "version": 3
   },
   "file_extension": ".py",
   "mimetype": "text/x-python",
   "name": "python",
   "nbconvert_exporter": "python",
   "pygments_lexer": "ipython3",
   "version": "3.12.7"
  }
 },
 "nbformat": 4,
 "nbformat_minor": 5
}
